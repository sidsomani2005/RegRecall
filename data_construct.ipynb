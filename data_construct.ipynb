{
 "cells": [
  {
   "cell_type": "markdown",
   "metadata": {},
   "source": [
    "# RegRecall Dataset Construction\n",
    "\n",
    "This notebook contains code to construct the RegRecall dataset."
   ]
  },
  {
   "cell_type": "markdown",
   "metadata": {},
   "source": [
    "## Part 0: Imports"
   ]
  },
  {
   "cell_type": "code",
   "execution_count": 1,
   "metadata": {},
   "outputs": [
    {
     "name": "stderr",
     "output_type": "stream",
     "text": [
      "/Users/sidsomani/anaconda3/lib/python3.11/site-packages/pypdf/_crypt_providers/_cryptography.py:32: CryptographyDeprecationWarning: ARC4 has been moved to cryptography.hazmat.decrepit.ciphers.algorithms.ARC4 and will be removed from cryptography.hazmat.primitives.ciphers.algorithms in 48.0.0.\n",
      "  from cryptography.hazmat.primitives.ciphers.algorithms import AES, ARC4\n"
     ]
    }
   ],
   "source": [
    "%load_ext autoreload\n",
    "%autoreload 2\n",
    "from pypdf import PdfReader\n",
    "from lit_scraper import scrape_sec_complaints\n",
    "from sec_complaint_parser import SECComplaintParser\n",
    "from parser_config import reg_headings\n",
    "import random\n",
    "import os\n",
    "from tqdm import tqdm\n",
    "import json"
   ]
  },
  {
   "cell_type": "markdown",
   "metadata": {},
   "source": [
    "<br>"
   ]
  },
  {
   "cell_type": "markdown",
   "metadata": {},
   "source": [
    "## Part 1: Litigation Web Scraping\n",
    "\n",
    "First, we scrape all litigation proceedings opened by the SEC from [here](https://www.sec.gov/litigation/litreleases). After the scraping is completed, note that the documents must be moved from your default \"Downloads\" folder to a more permanent location."
   ]
  },
  {
   "cell_type": "code",
   "execution_count": 2,
   "metadata": {},
   "outputs": [
    {
     "name": "stdout",
     "output_type": "stream",
     "text": [
      "Skipped non-PDF link: https://www.sec.gov/files/litigation/complaints/2025/comp26360.pdf\n",
      "Skipped non-PDF link: https://www.sec.gov/files/litigation/complaints/2025/comp26359.pdf\n",
      "Skipped non-PDF link: https://www.sec.gov/files/litigation/complaints/2025/comp26358.pdf\n",
      "Skipped non-PDF link: https://www.sec.gov/files/litigation/litreleases/2025/comp26355.pdf\n",
      "Skipped non-PDF link: https://www.sec.gov/files/litigation/complaints/2025/comp26354.pdf\n",
      "Skipped non-PDF link: https://www.sec.gov/files/litigation/complaints/2025/comp26353.pdf\n",
      "Skipped non-PDF link: https://www.sec.gov/files/litigation/complaints/2025/comp26352.pdf\n",
      "Skipped non-PDF link: https://www.sec.gov/files/litigation/complaints/2025/comp26349.pdf\n",
      "Skipped non-PDF link: https://www.sec.gov/files/litigation/complaints/2025/comp26348.pdf\n",
      "Stopped\n",
      "Total size of downloaded PDFs: 0 bytes\n",
      "Total number of downloaded files: 10\n"
     ]
    }
   ],
   "source": [
    "scrape_sec_complaints()"
   ]
  },
  {
   "cell_type": "markdown",
   "metadata": {},
   "source": [
    "<br>"
   ]
  },
  {
   "cell_type": "markdown",
   "metadata": {},
   "source": [
    "## Part 2: Initial Parsing\n",
    "\n",
    "Next, the documents must be parsed to identify and extract information relating to actions taken, and violations broken.\n",
    "\n",
    "First, parse the pdfs to extract text."
   ]
  },
  {
   "cell_type": "code",
   "execution_count": 3,
   "metadata": {},
   "outputs": [
    {
     "name": "stderr",
     "output_type": "stream",
     "text": [
      "100%|██████████| 10/10 [00:01<00:00,  6.61it/s]\n"
     ]
    }
   ],
   "source": [
    "all_texts = SECComplaintParser.get_all_pdf_texts(\"data/sec_complaints\", save_text=True, save_directory=\"data/sec_complaints_text\")"
   ]
  },
  {
   "cell_type": "markdown",
   "metadata": {},
   "source": [
    "Alternatively, if the text has already been extracted, load the text in."
   ]
  },
  {
   "cell_type": "code",
   "execution_count": 4,
   "metadata": {},
   "outputs": [
    {
     "name": "stderr",
     "output_type": "stream",
     "text": [
      "100%|██████████| 10/10 [00:00<00:00, 7794.66it/s]"
     ]
    },
    {
     "name": "stdout",
     "output_type": "stream",
     "text": [
      "10 texts loaded in!\n"
     ]
    },
    {
     "name": "stderr",
     "output_type": "stream",
     "text": [
      "\n"
     ]
    }
   ],
   "source": [
    "all_texts = SECComplaintParser.load_pdf_texts(\"data/sec_complaints_text\")\n",
    "\n",
    "print(\"{num_texts} texts loaded in!\".format(num_texts=len(all_texts)))"
   ]
  },
  {
   "cell_type": "code",
   "execution_count": 5,
   "metadata": {},
   "outputs": [
    {
     "name": "stdout",
     "output_type": "stream",
     "text": [
      "Saved JSON to data/sec_complaints_json/complaints.json\n"
     ]
    }
   ],
   "source": [
    "output_dir = \"data/sec_complaints_json\"\n",
    "os.makedirs(output_dir, exist_ok=True)\n",
    "output_path = os.path.join(output_dir, \"complaints.json\")\n",
    "\n",
    "with open(output_path, \"w\", encoding=\"utf-8\") as json_file:\n",
    "    json.dump(all_texts, json_file, indent=2, ensure_ascii=False)\n",
    "\n",
    "print(f\"Saved JSON to {output_path}\")"
   ]
  },
  {
   "cell_type": "markdown",
   "metadata": {},
   "source": [
    "Now let us split the text up by sections."
   ]
  },
  {
   "cell_type": "code",
   "execution_count": 6,
   "metadata": {},
   "outputs": [
    {
     "name": "stdout",
     "output_type": "stream",
     "text": [
      "File: comp26349\n",
      "  Section: DOC_START\n",
      "File: comp26348\n",
      "  Section: DOC_START\n",
      "File: comp26360\n",
      "  Section: DOC_START\n",
      "File: comp26358\n",
      "  Section: DOC_START\n",
      "  Section: count i \n",
      "  Section: count ii \n",
      "  Section: count iii \n",
      "File: comp26359\n",
      "  Section: DOC_START\n",
      "File: comp26354\n",
      "  Section: DOC_START\n",
      "File: comp26355\n",
      "  Section: DOC_START\n",
      "File: comp26345\n",
      "  Section: DOC_START\n",
      "File: comp26352\n",
      "  Section: DOC_START\n",
      "File: comp26353\n",
      "  Section: DOC_START\n"
     ]
    }
   ],
   "source": [
    "sectioned_texts = SECComplaintParser.section_all_texts(all_texts)\n",
    "for file in sectioned_texts:\n",
    "    print(f\"File: {file}\")\n",
    "    for section, text in sectioned_texts[file].items():\n",
    "        print(f\"  Section: {section}\")\n",
    "        # print(f\"  Text: {text}\")  # Print first 100 characters of each section\n",
    "        # print()  # Newline for better readability"
   ]
  },
  {
   "cell_type": "code",
   "execution_count": 7,
   "metadata": {},
   "outputs": [
    {
     "name": "stdout",
     "output_type": "stream",
     "text": [
      "['.*claimforrelief', 'prayerforrelief', 'claimsforrelief', 'claimsforaction', 'claimforrelief', '.*claimforaction', '.*causeofaction', 'count.*']\n",
      "1\n",
      "9\n",
      "['comp26349', 'comp26348', 'comp26360', 'comp26359', 'comp26354', 'comp26355', 'comp26345', 'comp26352', 'comp26353']\n"
     ]
    }
   ],
   "source": [
    "rule_section = 0\n",
    "no_rule_section = 0\n",
    "no_rule_sections = []\n",
    "\n",
    "print(reg_headings)\n",
    "\n",
    "for text_key, sectioned_text in sectioned_texts.items():\n",
    "    has_rule_section = False\n",
    "    \n",
    "    for heading in sectioned_text:\n",
    "        if SECComplaintParser.regex_fullmatch_any(heading, reg_headings):\n",
    "            has_rule_section = True\n",
    "\n",
    "    if has_rule_section:\n",
    "        rule_section += 1\n",
    "    else:\n",
    "        no_rule_section += 1\n",
    "        no_rule_sections.append(text_key)\n",
    "\n",
    "print(rule_section)\n",
    "print(no_rule_section)\n",
    "print(no_rule_sections)"
   ]
  },
  {
   "cell_type": "markdown",
   "metadata": {},
   "source": [
    "<br>"
   ]
  },
  {
   "cell_type": "markdown",
   "metadata": {},
   "source": [
    "## Part 3: Section Parsing\n",
    " \n",
    "Extracting each section from each txt filing using sec_complaint_parser.py functions"
   ]
  },
  {
   "cell_type": "code",
   "execution_count": 8,
   "metadata": {},
   "outputs": [],
   "source": [
    "sectioned_texts = SECComplaintParser.section_all_texts(all_texts)\n",
    "# print(json.dumps(sectioned_texts, indent=2))"
   ]
  },
  {
   "cell_type": "markdown",
   "metadata": {},
   "source": [
    "### Testing for single file"
   ]
  },
  {
   "cell_type": "markdown",
   "metadata": {},
   "source": [
    "#### Before the preamble"
   ]
  },
  {
   "cell_type": "code",
   "execution_count": 11,
   "metadata": {},
   "outputs": [],
   "source": [
    "with open(\"data/sec_complaints_text/comp26352.txt\", \"r\") as f:\n",
    "    text = f.read()\n",
    "    \n",
    "attributes = SECComplaintParser.parse_sec_complaint_attributes(text)\n",
    "# print(json.dumps(attributes, indent=2))"
   ]
  },
  {
   "cell_type": "markdown",
   "metadata": {},
   "source": [
    "#### Including preamble and item content"
   ]
  },
  {
   "cell_type": "code",
   "execution_count": 12,
   "metadata": {},
   "outputs": [
    {
     "name": "stdout",
     "output_type": "stream",
     "text": [
      "{\n",
      "  \"attributes\": {\n",
      "    \"court\": null,\n",
      "    \"plaintiff\": null,\n",
      "    \"defendants\": \"trijya vakil and neeraj visen, \\n  \\n                                             defendant s.\",\n",
      "    \"attorneys\": \"attorneys for plaintiff  \\nsecurities and exchange commission\",\n",
      "    \"case_number\": \"25 civ. _____\",\n",
      "    \"jury_trial\": \"jury trial demanded\"\n",
      "  },\n",
      "  \"sections\": {\n",
      "    \"preamble\": [\n",
      "      \"joseph g. sansone\",\n",
      "      \"assunta vivolo  derek m. schoenmann\",\n",
      "      \"jawad b. muaddi  attorneys for plaintiff\",\n",
      "      \"securities and exchange commission new york regional office\",\n",
      "      \"100 pearl street, suite 20 -100\",\n",
      "      \"new york, new york 10 004-2616\",\n",
      "      \"(212) 336-9113 ( schoenmann)\",\n",
      "      \"schoenmannd@sec.gov   united states district court\",\n",
      "      \"southern district of new york\",\n",
      "      \"\",\n",
      "      \"securities and exchange\",\n",
      "      \"commission,\",\n",
      "      \"plaintiff,\",\n",
      "      \"-against-\",\n",
      "      \"trijya vakil and neeraj visen,\",\n",
      "      \"\"\n",
      "    ],\n",
      "    \"defendant\": [\n",
      "      \"defendant\",\n",
      "      \"11. vakil , age 52, resides in wynnewood, pennsylvania .  during the relevant period,\",\n",
      "      \"vakil was employed at elanco  as senior director, product innovation.  she currently serves as\",\n",
      "      \"director of global marketing a pharmaceutical company.   vakil has never been associated with\",\n",
      "      \"any entity registered with the commission.\",\n",
      "      \"12. visen , age 51, resides in lutz, florida.  during the relevant period , visen  was\",\n",
      "      \"employed as senior licensing manager at a university in florida , and later as the director of\",\n",
      "      \"licensing for engineering at a university in connecticut.  visen  has never been associated with\",\n",
      "      \"any entity registered with the commission . case 7:25-cv-05697     document 1     filed 07/10/25     page 3 of 12  4 other relevant entities\",\n",
      "      \"13. kindred  was a delaware corporation headquartered in burlingame, california.\",\n",
      "      \"kindred was a biopharmaceutical company focused on developing novel pet therapeutics .\",\n",
      "      \"during the relevant period, kindred\\u2019s common stock was listed on the nasdaq stock market\",\n",
      "      \"under the symbol \\u201ckin.\\u201d\",\n",
      "      \"14. elanco  is an indiana corporation headquartered in greenfield, indiana .  elanco  is\",\n",
      "      \"a biopharmaceutical company specializing in products to prevent and treat disease in farm\",\n",
      "      \"animals and pets .  during the relevant period , elanco \\u2019s common stock was listed on the new\",\n",
      "      \"york stock exchange (\\u201cnyse\\u201d) and traded under the symbol \\u201c elan .\\u201d\",\n",
      "      \"facts\",\n",
      "      \"i. background\",\n",
      "      \"a. elanco\\u2019s acquisition of kindred\",\n",
      "      \"15. in or around april 2021, representatives of elanco  and kindred began discussing\",\n",
      "      \"the possibility of a merger or similar transaction  between the two companies.\",\n",
      "      \"16. on april 16, 2021, elanco submitted a non- binding offer to acquire kindred at a\",\n",
      "      \"price between $8 and $10.50 per share in cash.  over the next several months, elanco performed\",\n",
      "      \"due diligence in anticipation of an acquisition of kindred while representatives of elanco and\",\n",
      "      \"kindred continued to negotiate the deal terms .\",\n",
      "      \"17. by may 31, 2021, all other prospective bidders had discontinued negotiations\",\n",
      "      \"with kindred, and most of the key terms (including the acquisition price per share) were agreed upon between kindred and elanco.\",\n",
      "      \"18. the boards of directors of elanco and kindred approved the merger on june 14\",\n",
      "      \"and june 15, 2021, respectively, and the acquisition was announced publicly on june 16, 2021.  case 7:25-cv-05697     document 1     filed 07/10/25     page 4 of 12  5 b. vakil\\u2019s role and obligations to elanco\",\n",
      "      \"19. as senior director of product innovation at elanco, vakil served as part of a\",\n",
      "      \"cross -functional team supporting new product development and pipeline investments, with a\",\n",
      "      \"focus on evaluating risk, future revenue potential, and overall portfolio strategy.\",\n",
      "      \"20. vakil was subject to elanco\\u2019s policies and procedures  regarding insider trading\",\n",
      "      \"and treatment of mnpi obtained in connection with her employment.\",\n",
      "      \"21. elanco\\u2019s insider trading policy expressly prohibited employees from trading on,\",\n",
      "      \"or disclosing, confidential information obtained through their employment, including \\u201ctrading in\",\n",
      "      \"the securities of another company if you become aware of material, non- public i nformation about\",\n",
      "      \"that company in the course of your position with [elanco].\\u201d\",\n",
      "      \"22. before and during the relevant period, vakil participated in training course s on\",\n",
      "      \"elanco\\u2019s code of conduct, including its insider trading policy.  she completed one  of those\",\n",
      "      \"trainings in  or around may 2021, and the  written materials provided in connection with that\",\n",
      "      \"training included these directives : \\u201cdo not buy, sell, or trade elanco stock while in possession of\",\n",
      "      \"important, nonpublic information about elanco \\u2026 do not disclose important, nonpublic\",\n",
      "      \"information about elanco  to others who may buy, sell, or trade  elanco  stock\\u2026 [and] take the\",\n",
      "      \"same trading and disclosure precautions for other publicly traded companies whose important, nonpublic information you may learn about in the course of your work at elanco (for example, companies with which elanco has a significant relationship, existing or proposed) \\u201d\",\n",
      "      \"(emphasis added).  case 7:25-cv-05697     document 1     filed 07/10/25     page 5 of 12  6 ii. vakil participated in elanco\\u2019s due diligence of kindred and obtained mnpi about\",\n",
      "      \"the upcoming acquisition\",\n",
      "      \"23. on april 16, 2021, the same day that elanco  submitted its first non -binding offer\",\n",
      "      \"to acquire kindred, elanco assembled a cross -functional team to complete its due diligence on\",\n",
      "      \"kindred.\",\n",
      "      \"24. vakil was assigned to the due diligence team that same day to help assess the\",\n",
      "      \"transaction from a product strategy and technical risk perspective.\",\n",
      "      \"25. upon being assigned to the due diligence team, vakil was told that the due\",\n",
      "      \"diligence related to a planned acquisition of kindred and that it was highly confidential .\",\n",
      "      \"26. although elanco had assigned a code name to the potential acquisition  (\\u201cproject\",\n",
      "      \"knight\\u201d), internal emails \\u2013 including emails vakil sent and/or received  in connection with her\",\n",
      "      \"work on the due diligence team \\u2013 used the name kindred interchangeably with the code name\",\n",
      "      \"\\u201cknight .\\u201d\",\n",
      "      \"27. for example, on april 16, 2021, vakil received an email from a senior business\",\n",
      "      \"development manager and due diligence team  lead with the subject \\u201cknight \\u2013 update,\\u201d which\",\n",
      "      \"referred to kindred by name in the body of the email.\",\n",
      "      \"28. on april 23, 2021, vakil sent an email to  a colleague in which she herself\",\n",
      "      \"referred to the due diligence project as \\u201cknight (kindred).\\u201d\",\n",
      "      \"29. on may 5, 2021, vakil participated in an email exchange with other members of\",\n",
      "      \"the due diligence team in which she discussed product data that her team had received from kindred.\",\n",
      "      \"30. many other  emails written or received by vakil between april 16 and may 12,\",\n",
      "      \"2021 also referred to kindred by name as the subject of the due diligence.   case 7:25-cv-05697     document 1     filed 07/10/25     page 6 of 12  7 31. these communications also highlighted the confidential nature of the potential\",\n",
      "      \"transaction .\",\n",
      "      \"32. for example, certain emails written or received by vakil referred to project\",\n",
      "      \"knight as \\u201cred company confidential information.\\u201d   under elanco\\u2019s  information handling\",\n",
      "      \"policies, \\u201cr ed\\u201d was  the most restrictive designation, and was  reserved for information that\",\n",
      "      \"\\u201crequires the most significant protective measures and procedures\\u201d because \\u201closs, theft,\",\n",
      "      \"unintentional disclosure or compromise could result in serious damage to elanco.\\u201d\",\n",
      "      \"33. in addition, on at least one occasion, m embers of elanco\\u2019s business development\",\n",
      "      \"team advised vakil  orally  that the prospective acquisition was confidential and sh ould not be\",\n",
      "      \"disclosed to anyone .\",\n",
      "      \"iii. vakil knowingly purchased kindred stock in violation of her duties to elanco\",\n",
      "      \"34. on may 12, 2021, following an internal meeting in which the project knight due\",\n",
      "      \"diligence team (including vakil) discussed their initial findings, vakil purchased 500 shares of\",\n",
      "      \"kindred stock in her online brokerage account.\",\n",
      "      \"35. vakil bought kindred stock because she believed the stock price would increase\",\n",
      "      \"when the acquisition was announced.\",\n",
      "      \"36. although she traded stocks periodically, vakil had not  traded  kindred securities.\",\n",
      "      \"37. the announcement was made before the market open on june 16, 2021.  the\",\n",
      "      \"price of kindred shares increased by about  46%  from the prior day\\u2019s  closing price of $6.34 per\",\n",
      "      \"share to close at $9.23 per share.\",\n",
      "      \"38. vakil sold all her kindred shares on june 16, 2021, obtaining ill- gotten gains of\",\n",
      "      \"$2,447.50. case 7:25-cv-05697     document 1     filed 07/10/25     page 7 of 12  8 iv. vakil knowingly shared mnpi about the acquisition with visen in further\",\n",
      "      \"violation of her duties to elanco, and visen unlawfully traded on it\",\n",
      "      \"39. vakil and visen are long -time friends who grew up together in india.  they speak\",\n",
      "      \"on the phone periodically and sometimes attend  social events together.\",\n",
      "      \"40. for example, in february 2020, visen traveled from florida to new jersey to\",\n",
      "      \"spend the weekend at a beach house with vakil and several other friends.  vakil picked visen up\",\n",
      "      \"at newark airport while the other guests traveled separately.\",\n",
      "      \"41. during 2021, vakil and visen communicated regularly via a n instant  messaging\",\n",
      "      \"app and weekly videoconference calls, some of which included other friends whom they had\",\n",
      "      \"grown up with.\",\n",
      "      \"42. in or around may 2021, vakil disclosed to visen that kindred would soon be\",\n",
      "      \"acquired by vakil\\u2019s employer, elanco, and that she thought kindred\\u2019s stock price would go up as a result.\",\n",
      "      \"43. vakil mentioned the potential a cquisition two or three times in videoconference\",\n",
      "      \"calls and instant message  conversations with visen during the month leading up to the\",\n",
      "      \"announcement , including telling visen that she was working on a project to evaluate the\",\n",
      "      \"proposed a cquisition of kindred for elanco\\u2019s leadership.\",\n",
      "      \"44. in at least one conversation, vakil told visen that she had purchased kindred\",\n",
      "      \"stock for her own account.\",\n",
      "      \"45. on or about june 15, 2021, vakil advised visen that elanco\\u2019s acquisition of\",\n",
      "      \"kindred would be announced in a day or two.\",\n",
      "      \"46. vakil disclosed information about the impending acquisition to visen as an act of\",\n",
      "      \"friendship, intending that her friend would trade on the information. case 7:25-cv-05697     document 1     filed 07/10/25     page 8 of 12  9 47. visen understood that information about the impending a cquisition was nonpublic\",\n",
      "      \"and that vakil was not permitted to disclose it.\",\n",
      "      \"48. on june 15, 2021, shortly after vakil informed him of the imminent\",\n",
      "      \"announcement, visen \\u2013 an infrequent trader who had never before traded kindred securities \\u2013\",\n",
      "      \"purchased 38,000 shares of kindred stock in his  brokerage account.\",\n",
      "      \"49. the next day, following the announcement, the price of kindred shares increased\",\n",
      "      \"by about  46% from the prior day \\u2019s closing price of $6.34 per share to close at $9.23 per share.\",\n",
      "      \"as a result, visen generated  ill-gotten gains of $109,437.\",\n",
      "      \"50. after the announcement , vakil asked  visen if he had purchased kindred stock\",\n",
      "      \"based on their prior conversations, and when visen said that he had, vakil said \\u201cgood for you. \\u201d\",\n",
      "      \"v. vakil lied to elanco and the fbi, and asked visen to lie to the fbi for her\",\n",
      "      \"51. on or about september 21, 2021, for purposes of responding to a finra inquiry,\",\n",
      "      \"elanco emailed a list of individuals who had traded kindred stock ahead of the announcement  to\",\n",
      "      \"all elanco personnel who had been involved in the transaction, including vakil, asking if they\",\n",
      "      \"knew anyone on the list.  visen\\u2019s name was on the list.\",\n",
      "      \"52. vakil responded that she knew no one  on the list , and her false statement was\",\n",
      "      \"incorporated into elanco\\u2019s response to finra.\",\n",
      "      \"53. vakil later told visen about this email exchange with her employer, assuring\",\n",
      "      \"visen that she had left his name out of her response.\",\n",
      "      \"54. on december 21, 2023, t he fbi telephon ed vakil  and asked her  about her and\",\n",
      "      \"visen\\u2019s kindred trading.\",\n",
      "      \"55. during that conversation, vakil  first told  the fbi that she did not learn about the\",\n",
      "      \"potential kindred a cquisition until after she had purchased kindred stock, although she later\",\n",
      "      \"admitted that was untrue.   case 7:25-cv-05697     document 1     filed 07/10/25     page 9 of 12  10 56. vakil told the fbi that , while she could not recall specifically mentioning the\",\n",
      "      \"planned a cquisition  to visen , it was possible that  she may have let it slip once as a result of job\",\n",
      "      \"frustration , but not intending for visen to trade on it .\",\n",
      "      \"57. the fbi concluded the interview by asking vakil if she would call visen and\",\n",
      "      \"allow them to record the conversation.  she said she would consider it and suggested they speak\",\n",
      "      \"again later that day.\",\n",
      "      \"58. in the interim, vakil informed visen about law enforcement \\u2019s plan to record the\",\n",
      "      \"two of them talking.  vakil asked visen to corroborate her story that she only mentioned the planned acquisition to him once during a moment of job- related frustration, which was false.\",\n",
      "      \"visen , however, declined to answer when vakil called him back with the fbi on the line.\",\n",
      "      \"first claim for relief\",\n",
      "      \"violation  of exchange act section 10(b) and rule 10b -5 thereunder\",\n",
      "      \"59. the commission re -alleges and incorporates by reference here the allegations in\",\n",
      "      \"paragraphs 1 through 58.\",\n",
      "      \"60. vakil and visen , directly or indirectly, in connection with the purchase or sale of\",\n",
      "      \"securities and by the use of means or instrumentalities of interstate commerce, or the mails, or the facilities of a national securities exchange, knowingly o r recklessly (i) employed one or more\",\n",
      "      \"devices , schemes , or artifice s to defraud, (ii) made one or more untrue statements of a material\",\n",
      "      \"fact or omitted to state one or more material fact s necessary in order to make the statements\",\n",
      "      \"made, in light of the circumstances  under  which they were made, not misleading, and/ or (iii)\",\n",
      "      \"engaged in one or more  acts, practices , or course s of business which operated or would operate\",\n",
      "      \"as a fraud or deceit upon other persons . case 7:25-cv-05697     document 1     filed 07/10/25     page 10 of 12  11 61. by reason of the foregoing, vakil and visen , directly or indirectly, violated and,\",\n",
      "      \"unless enjoined, will again violate exchange act section 10(b) [15 u.s.c. \\u00a7 78j(b)] and rule\",\n",
      "      \"10b-5 thereunder [17 c.f.r. \\u00a7 240.10b- 5].\",\n",
      "      \"prayer for relief\",\n",
      "      \"wherefore, the commission respectfully requests that the court enter  a final\",\n",
      "      \"judgment :\",\n",
      "      \"i.\",\n",
      "      \"permanently enjoining vakil and visen  from violating, directly or indirectly, section\",\n",
      "      \"10(b)  of the exchange act  [15 u.s.c. \\u00a7 78j(b) ] and rule  10b- 5 thereunder [17 c.f.r. \\u00a7 240.10b-\",\n",
      "      \"5];\",\n",
      "      \"ii.\",\n",
      "      \"ordering vakil and visen to disgorge all ill- gotten gains by which they were unjustly\",\n",
      "      \"enriched , with pre -judgment  interest thereon , as a result  of the alleged violations pursuant to\",\n",
      "      \"exchange  act sections 21(d)(5) and 21(d)(7) [15 u.s.c. \\u00a7\\u00a7 78u(d)(5) and 78u(d)( 7)];\",\n",
      "      \"iii.\",\n",
      "      \"ordering vakil and visen to pay civil monetary penalties under section 21a of the\",\n",
      "      \"exchange act [15 u.s.c. \\u00a7 78u- 1];\",\n",
      "      \"iv.\",\n",
      "      \"pursuant to section 21(d)(2) of the exchange act [15 u.s.c. \\u00a7 78u(d)(2)], p ermanently\",\n",
      "      \"prohibiting vakil and visen from acting as an officer or director of any issuer that has a class of\",\n",
      "      \"securities registered pursuant to section 12 of the exchange act [15 u.s.c. \\u00a7 78l] or that is required\",\n",
      "      \"to file reports pursuant to section 15(d) of the exchange act [15 u.s.c. \\u00a7 78o(d)].  case 7:25-cv-05697     document 1     filed 07/10/25     page 11 of 12  12 v.\",\n",
      "      \"granting any other and further relief this court may deem just and proper.\",\n",
      "      \"demand for jury trial\",\n",
      "      \"pursuant to rule 38 of the federal rules of civil procedure, the commission demands\",\n",
      "      \"trial by jury in this action of all issues so triable.\",\n",
      "      \"\",\n",
      "      \"dated:  new york, new york\",\n",
      "      \"july 10, 2025\",\n",
      "      \"\",\n",
      "      \"/s/ derek m. schoenmann\",\n",
      "      \"derek m. schoenmann\",\n",
      "      \"joseph g. sansone  assunta vivolo  derek m. schoenmann\",\n",
      "      \"jawad b. muaddi attorneys for plaintiff\",\n",
      "      \"securities and exchange commission new york regional office\",\n",
      "      \"100 pearl street, suite 20-100 new york, new york 10004-2616 (212) 336-9113 (schoenmann) schoenmannd@sec.gov   case 7:25-cv-05697     document 1     filed 07/10/25     page 12 of 12\"\n",
      "    ],\n",
      "    \"summary\": [\n",
      "      \"summary\",\n",
      "      \"1. this matter concerns insider trading by vakil and visen in the securities of kindred\",\n",
      "      \"biosciences , inc. (\\u201c kindred\\u201d) before  the june 16, 2021 announcement that vakil\\u2019s employer,\",\n",
      "      \"elanco animal health, inc. (\\u201c elanco ), had agreed to acquire all outstanding shares of kindred\",\n",
      "      \"stock  for $ 9.25 per share in cash  (the \\u201cannouncement\\u201d).\",\n",
      "      \"2. vakil obtained material nonpublic information (\\u201cmnpi\\u201d) about elanco\\u2019s\",\n",
      "      \"upcoming acquisition of kindred (\\u201cacquisition\\u201d) through her employment at elanco.  beginning\",\n",
      "      \"on or about april 16, 2021, vakil took part in elanco\\u2019s due diligence relating to the acquisition.  case 7:25-cv-05697     document 1     filed 07/10/25     page 1 of 12  2 on may 12, 2021, in violation of her duties to elanco, vakil purchased kindred stock while\",\n",
      "      \"aware of and based on that mnpi.  when kindred\\u2019s stock price rose by about  46% following the\",\n",
      "      \"announcement, vakil obtained ill -gotten gains of $2,447.50.\",\n",
      "      \"3. along with trading in kindred stock on the basis of the mnpi that she\",\n",
      "      \"misappropriated from elanco, vakil also, in further violation of her duties to elanco, tipped her friend visen about the upcoming acquisition .  on june 15, 2021, the day before the\",\n",
      "      \"announcement, visen used  the mnpi that he had obtained from vakil  to purchase kindred\",\n",
      "      \"stock .  when kindred\\u2019s stock price rose by about  46% following the announcement, visen\",\n",
      "      \"obtained ill -gotten gains of $109,437.\"\n",
      "    ],\n",
      "    \"violations\": [\n",
      "      \"violations\",\n",
      "      \"4. through the above  conduct and as alleged further  here,  vakil and visen  have\",\n",
      "      \"violated  section  10(b) of the securities exchange act of 1934 (\\u201cexchange act\\u201d) [15 u.s.c.\",\n",
      "      \"\\u00a7 78j(b) ] and r ule 10b- 5 thereunder [17 c.f.r. \\u00a7 240.10b- 5].\",\n",
      "      \"5. unless vakil and visen  are restrained and enjoined, they will engage in the acts,\",\n",
      "      \"practices, transactions, and courses of business set forth in this complaint or in acts, practices, transactions, and courses of business of similar type and object.\"\n",
      "    ],\n",
      "    \"nature of the proceedings and relief sought\": [\n",
      "      \"nature of the proceedings and relief sought\",\n",
      "      \"6. the commission brings this action pursuant to the  authority conferred upon it by\",\n",
      "      \"exchange act section s 21(d)  and 21a  [15 u.s.c. \\u00a7\\u00a7 78u(d)  and 78u- 1].\",\n",
      "      \"7. the comm ission seeks a final judgment: (a)  permanently enjoining vakil and\",\n",
      "      \"visen  from violating the federal securities laws and rules this complaint alleges they have\",\n",
      "      \"violated ; (b) ordering vakil and visen to disgorge all ill- gotten gains they  received because of\",\n",
      "      \"their violations alleged here in and to pay prejudgment interest  on it pursuant to exchange  act case 7:25-cv-05697     document 1     filed 07/10/25     page 2 of 12  3 sections 21(d)(5) and 21(d)(7) [15 u.s.c. \\u00a7\\u00a7 78u(d)(5) and 78u(d)(7)]; ( c) ordering vakil and\",\n",
      "      \"visen  to pay ci vil money penalties pursuant to exchange  act section 21 a [15 u.s.c. \\u00a7 78u- 1];\",\n",
      "      \"and ( d) ordering any other relief th e court may deem just and proper .\"\n",
      "    ],\n",
      "    \"jurisdiction and venue\": [\n",
      "      \"jurisdiction and venue\",\n",
      "      \"8. this court ha s jurisdiction over this action  pursuant to sections  21, 21a, and 27\",\n",
      "      \"of the exchange act  [15 u.s.c. \\u00a7\\u00a7 78u, 78u- 1, and 78aa] .\",\n",
      "      \"9. vakil and visen , directly and indirectly, have  made use of  the means or\",\n",
      "      \"instrumentalities of interstate commerce or of the mails in connection with the transactions, acts,\",\n",
      "      \"practices, and courses of business alleged herein.\",\n",
      "      \"10. venue  in this district is proper under section 27 of the exchange act  [15 u.s.c.\",\n",
      "      \"\\u00a7 78aa ], because certain of the acts , practices, transactions, and courses of business constituting\",\n",
      "      \"the violations alleged in this complaint occurred in the southern district of new york.  at all\",\n",
      "      \"times relevant to this action,  the securities  vakil and visen  traded illegally were traded on the\",\n",
      "      \"nasdaq stock market  (\\u201cnasdaq \\u201d), which is headquartered  in this district.\"\n",
      "    ]\n",
      "  }\n",
      "}\n"
     ]
    }
   ],
   "source": [
    "with open(\"data/sec_complaints_text/comp26348.txt\", \"r\") as f:\n",
    "    text = f.read()\n",
    "parsed = SECComplaintParser.parse_sec_complaint_full(text)\n",
    "import json\n",
    "print(json.dumps(parsed, indent=2))"
   ]
  },
  {
   "cell_type": "markdown",
   "metadata": {},
   "source": [
    "### Since it works, we can proceed to file cleaning and processing the section-wise content for all files"
   ]
  },
  {
   "cell_type": "markdown",
   "metadata": {},
   "source": [
    "# <br>"
   ]
  },
  {
   "cell_type": "markdown",
   "metadata": {},
   "source": [
    "## Part 4. File Cleaning"
   ]
  },
  {
   "cell_type": "code",
   "execution_count": 13,
   "metadata": {},
   "outputs": [],
   "source": [
    "import json\n",
    "\n",
    "output_dir = \"data/cleaned\"\n",
    "os.makedirs(output_dir, exist_ok=True)\n",
    "\n",
    "for text_key, sectioned_text in sectioned_texts.items():\n",
    "    # print(f\"Processing text key: {text_key}\")\n",
    "    full_text = []\n",
    "\n",
    "    for heading, text_list in sectioned_text.items():\n",
    "        joined_text = \" \".join(text_list)\n",
    "        joined_text = \" \".join(joined_text.split())  # Optional cleanup\n",
    "        cleaned = SECComplaintParser.clean_string(joined_text)\n",
    "        full_text.append(cleaned)\n",
    "        # print(f\"Joined text for '{heading}': {len(cleaned)} characters\")\n",
    "\n",
    "    # Combine all cleaned sections into one string\n",
    "    output_text = \"\\n\\n\".join(full_text)\n",
    "\n",
    "    # Write to file\n",
    "    output_path = os.path.join(output_dir, f\"{text_key}.txt\")\n",
    "    with open(output_path, \"w\", encoding=\"utf-8\") as f:\n",
    "        f.write(output_text)\n",
    "\n",
    "    # print(f\"Saved cleaned text to: {output_path}\")\n"
   ]
  },
  {
   "cell_type": "markdown",
   "metadata": {},
   "source": [
    "### Processing all section wise JSON dumps into file and folder"
   ]
  },
  {
   "cell_type": "code",
   "execution_count": 14,
   "metadata": {},
   "outputs": [],
   "source": [
    "input_folder = \"data/sec_complaints_text\"\n",
    "output_folder = \"data/sec_sections_json\"\n",
    "os.makedirs(output_folder, exist_ok=True)\n",
    "\n",
    "for filename in os.listdir(input_folder):\n",
    "    if filename.endswith(\".txt\"):\n",
    "        input_path = os.path.join(input_folder, filename)\n",
    "        output_path = os.path.join(output_folder, filename.replace(\".txt\", \".json\"))\n",
    "        with open(input_path, \"r\", encoding=\"utf-8\") as f:\n",
    "            text = f.read()\n",
    "        parsed = SECComplaintParser.parse_sec_complaint_full(text)\n",
    "        with open(output_path, \"w\", encoding=\"utf-8\") as out_f:\n",
    "            json.dump(parsed, out_f, indent=2)"
   ]
  }
 ],
 "metadata": {
  "kernelspec": {
   "display_name": "base",
   "language": "python",
   "name": "python3"
  },
  "language_info": {
   "codemirror_mode": {
    "name": "ipython",
    "version": 3
   },
   "file_extension": ".py",
   "mimetype": "text/x-python",
   "name": "python",
   "nbconvert_exporter": "python",
   "pygments_lexer": "ipython3",
   "version": "3.11.5"
  }
 },
 "nbformat": 4,
 "nbformat_minor": 2
}
