{
 "cells": [
  {
   "cell_type": "markdown",
   "metadata": {},
   "source": [
    "# RegRecall Dataset Construction\n",
    "\n",
    "This notebook contains code to construct the RegRecall dataset."
   ]
  },
  {
   "cell_type": "markdown",
   "metadata": {},
   "source": [
    "## Part 0: Imports"
   ]
  },
  {
   "cell_type": "code",
   "execution_count": 1,
   "metadata": {},
   "outputs": [
    {
     "name": "stderr",
     "output_type": "stream",
     "text": [
      "/Users/sidsomani/anaconda3/lib/python3.11/site-packages/pypdf/_crypt_providers/_cryptography.py:32: CryptographyDeprecationWarning: ARC4 has been moved to cryptography.hazmat.decrepit.ciphers.algorithms.ARC4 and will be removed from cryptography.hazmat.primitives.ciphers.algorithms in 48.0.0.\n",
      "  from cryptography.hazmat.primitives.ciphers.algorithms import AES, ARC4\n"
     ]
    }
   ],
   "source": [
    "%load_ext autoreload\n",
    "%autoreload 2\n",
    "from pypdf import PdfReader\n",
    "from lit_scraper import scrape_sec_complaints\n",
    "from sec_complaint_parser import SECComplaintParser\n",
    "from parser_config import reg_headings\n",
    "import random"
   ]
  },
  {
   "cell_type": "markdown",
   "metadata": {},
   "source": [
    "## Part 1: Litigation Web Scraping\n",
    "\n",
    "First, we scrape all litigation proceedings opened by the SEC from [here](https://www.sec.gov/litigation/litreleases). After the scraping is completed, note that the documents must be moved from your default \"Downloads\" folder to a more permanent location."
   ]
  },
  {
   "cell_type": "code",
   "execution_count": 5,
   "metadata": {},
   "outputs": [
    {
     "name": "stdout",
     "output_type": "stream",
     "text": [
      "Stopped\n"
     ]
    },
    {
     "ename": "FileNotFoundError",
     "evalue": "[Errno 2] No such file or directory: 'data/sec_complaints'",
     "output_type": "error",
     "traceback": [
      "\u001b[0;31m---------------------------------------------------------------------------\u001b[0m",
      "\u001b[0;31mFileNotFoundError\u001b[0m                         Traceback (most recent call last)",
      "Cell \u001b[0;32mIn[5], line 1\u001b[0m\n\u001b[0;32m----> 1\u001b[0m scrape_sec_complaints()\n",
      "File \u001b[0;32m~/Desktop/RegRecall/lit_scraper.py:70\u001b[0m, in \u001b[0;36mscrape_sec_complaints\u001b[0;34m()\u001b[0m\n\u001b[1;32m     67\u001b[0m     \u001b[38;5;28;01melse\u001b[39;00m:\n\u001b[1;32m     68\u001b[0m         \u001b[38;5;28mprint\u001b[39m(\u001b[38;5;124mf\u001b[39m\u001b[38;5;124m\"\u001b[39m\u001b[38;5;124mSkipped non-PDF link: \u001b[39m\u001b[38;5;132;01m{\u001b[39;00mcomplaint_url\u001b[38;5;132;01m}\u001b[39;00m\u001b[38;5;124m\"\u001b[39m)\n\u001b[0;32m---> 70\u001b[0m wait_for_downloads(download_directory)\n\u001b[1;32m     72\u001b[0m \u001b[38;5;66;03m# Update total_size after each page of downloads\u001b[39;00m\n\u001b[1;32m     73\u001b[0m total_size \u001b[38;5;241m+\u001b[39m\u001b[38;5;241m=\u001b[39m \u001b[38;5;28msum\u001b[39m(os\u001b[38;5;241m.\u001b[39mpath\u001b[38;5;241m.\u001b[39mgetsize(os\u001b[38;5;241m.\u001b[39mpath\u001b[38;5;241m.\u001b[39mjoin(download_directory, f))\n\u001b[1;32m     74\u001b[0m                 \u001b[38;5;28;01mfor\u001b[39;00m f \u001b[38;5;129;01min\u001b[39;00m downloaded_files\n\u001b[1;32m     75\u001b[0m                 \u001b[38;5;28;01mif\u001b[39;00m os\u001b[38;5;241m.\u001b[39mpath\u001b[38;5;241m.\u001b[39mexists(os\u001b[38;5;241m.\u001b[39mpath\u001b[38;5;241m.\u001b[39mjoin(download_directory, f)))\n",
      "File \u001b[0;32m~/Desktop/RegRecall/lit_scraper.py:14\u001b[0m, in \u001b[0;36mwait_for_downloads\u001b[0;34m(download_directory, timeout)\u001b[0m\n\u001b[1;32m     12\u001b[0m start_time \u001b[38;5;241m=\u001b[39m time\u001b[38;5;241m.\u001b[39mtime()\n\u001b[1;32m     13\u001b[0m \u001b[38;5;28;01mwhile\u001b[39;00m \u001b[38;5;28;01mTrue\u001b[39;00m:\n\u001b[0;32m---> 14\u001b[0m     \u001b[38;5;28;01mif\u001b[39;00m \u001b[38;5;28mall\u001b[39m(\u001b[38;5;129;01mnot\u001b[39;00m fname\u001b[38;5;241m.\u001b[39mendswith(\u001b[38;5;124m'\u001b[39m\u001b[38;5;124m.crdownload\u001b[39m\u001b[38;5;124m'\u001b[39m) \u001b[38;5;28;01mfor\u001b[39;00m fname \u001b[38;5;129;01min\u001b[39;00m os\u001b[38;5;241m.\u001b[39mlistdir(download_directory)):\n\u001b[1;32m     15\u001b[0m         \u001b[38;5;28;01mbreak\u001b[39;00m\n\u001b[1;32m     16\u001b[0m     \u001b[38;5;28;01melif\u001b[39;00m time\u001b[38;5;241m.\u001b[39mtime() \u001b[38;5;241m-\u001b[39m start_time \u001b[38;5;241m>\u001b[39m timeout:\n",
      "\u001b[0;31mFileNotFoundError\u001b[0m: [Errno 2] No such file or directory: 'data/sec_complaints'"
     ]
    }
   ],
   "source": [
    "scrape_sec_complaints()"
   ]
  },
  {
   "cell_type": "markdown",
   "metadata": {},
   "source": [
    "## Part 2: Parsing\n",
    "\n",
    "Next, the documents must be parsed to identify and extract information relating to actions taken, and violations broken.\n",
    "\n",
    "First, parse the pdfs to extract text."
   ]
  },
  {
   "cell_type": "code",
   "execution_count": null,
   "metadata": {},
   "outputs": [],
   "source": [
    "\n",
    "all_texts = SECComplaintParser.get_all_pdf_texts(\"data/sec_complaints\", save_text=True, save_directory=\"data/sec_complaints_text\")"
   ]
  },
  {
   "cell_type": "markdown",
   "metadata": {},
   "source": [
    "Alternatively, if the text has already been extracted, load the text in."
   ]
  },
  {
   "cell_type": "code",
   "execution_count": null,
   "metadata": {},
   "outputs": [],
   "source": [
    "all_texts = SECComplaintParser.load_pdf_texts(\"data/segmented_sec_complaints_text/subfolder_1\")\n",
    "\n",
    "print(\"{num_texts} texts loaded in!\".format(num_texts=len(all_texts)))"
   ]
  },
  {
   "cell_type": "markdown",
   "metadata": {},
   "source": [
    "Now let us split the text up by sections."
   ]
  },
  {
   "cell_type": "code",
   "execution_count": 8,
   "metadata": {},
   "outputs": [],
   "source": [
    "sectioned_texts = SECComplaintParser.section_all_texts(all_texts)"
   ]
  },
  {
   "cell_type": "code",
   "execution_count": null,
   "metadata": {},
   "outputs": [],
   "source": [
    "print(sectioned_texts['comp-pr2012-178'][\"complaint\"])"
   ]
  },
  {
   "cell_type": "code",
   "execution_count": null,
   "metadata": {},
   "outputs": [],
   "source": [
    "rule_section = 0\n",
    "no_rule_section = 0\n",
    "\n",
    "no_rule_sections = []\n",
    "\n",
    "print(reg_headings)\n",
    "\n",
    "for text_key, sectioned_text in sectioned_texts.items():\n",
    "\n",
    "    has_rule_section = False\n",
    "    \n",
    "    for heading in sectioned_text:\n",
    "\n",
    "        if SECComplaintParser.regex_fullmatch_any(heading, reg_headings):\n",
    "\n",
    "            has_rule_section = True\n",
    "\n",
    "    if has_rule_section:\n",
    "\n",
    "        rule_section += 1\n",
    "\n",
    "    else:\n",
    "\n",
    "        no_rule_section += 1\n",
    "        no_rule_sections.append(text_key)\n",
    "\n",
    "print(rule_section)\n",
    "print(no_rule_section)\n",
    "print(no_rule_sections)"
   ]
  }
 ],
 "metadata": {
  "kernelspec": {
   "display_name": "base",
   "language": "python",
   "name": "python3"
  },
  "language_info": {
   "codemirror_mode": {
    "name": "ipython",
    "version": 3
   },
   "file_extension": ".py",
   "mimetype": "text/x-python",
   "name": "python",
   "nbconvert_exporter": "python",
   "pygments_lexer": "ipython3",
   "version": "3.11.5"
  }
 },
 "nbformat": 4,
 "nbformat_minor": 2
}
