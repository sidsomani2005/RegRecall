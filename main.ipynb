{
 "cells": [
  {
   "cell_type": "markdown",
   "metadata": {},
   "source": [
    "# RegRecall Dataset Construction\n",
    "\n",
    "This notebook contains code to construct the RegRecall dataset."
   ]
  },
  {
   "cell_type": "markdown",
   "metadata": {},
   "source": [
    "## Part 0: Imports"
   ]
  },
  {
   "cell_type": "code",
   "execution_count": null,
   "metadata": {},
   "outputs": [],
   "source": [
    "%load_ext autoreload\n",
    "%autoreload 2\n",
    "from pypdf import PdfReader\n",
    "from lit_scraper import scrape_sec_complaints\n",
    "from sec_complaint_parser import SECComplaintParser\n",
    "from parser_config import reg_headings\n",
    "import random"
   ]
  },
  {
   "cell_type": "markdown",
   "metadata": {},
   "source": [
    "## Part 1: Litigation Web Scraping\n",
    "\n",
    "First, we scrape all litigation proceedings opened by the SEC from [here](https://www.sec.gov/litigation/litreleases). After the scraping is completed, note that the documents must be moved from your default \"Downloads\" folder to a more permanent location."
   ]
  },
  {
   "cell_type": "code",
   "execution_count": null,
   "metadata": {},
   "outputs": [],
   "source": [
    "scrape_sec_complaints()"
   ]
  },
  {
   "cell_type": "markdown",
   "metadata": {},
   "source": [
    "## Part 2: Parsing\n",
    "\n",
    "Next, the documents must be parsed to identify and extract information relating to actions taken, and violations broken.\n",
    "\n",
    "First, parse the pdfs to extract text."
   ]
  },
  {
   "cell_type": "code",
   "execution_count": null,
   "metadata": {},
   "outputs": [],
   "source": [
    "\n",
    "all_texts = SECComplaintParser.get_all_pdf_texts(\"data/sec_complaints\", save_text=True, save_directory=\"data/sec_complaints_text\")"
   ]
  },
  {
   "cell_type": "markdown",
   "metadata": {},
   "source": [
    "Alternatively, if the text has already been extracted, load the text in."
   ]
  },
  {
   "cell_type": "code",
   "execution_count": null,
   "metadata": {},
   "outputs": [],
   "source": [
    "all_texts = SECComplaintParser.load_pdf_texts(\"data/segmented_sec_complaints_text/subfolder_1\")\n",
    "\n",
    "print(\"{num_texts} texts loaded in!\".format(num_texts=len(all_texts)))"
   ]
  },
  {
   "cell_type": "markdown",
   "metadata": {},
   "source": [
    "Now let us split the text up by sections."
   ]
  },
  {
   "cell_type": "code",
   "execution_count": 8,
   "metadata": {},
   "outputs": [],
   "source": [
    "sectioned_texts = SECComplaintParser.section_all_texts(all_texts)"
   ]
  },
  {
   "cell_type": "code",
   "execution_count": null,
   "metadata": {},
   "outputs": [],
   "source": [
    "print(sectioned_texts['comp-pr2012-178'][\"complaint\"])"
   ]
  },
  {
   "cell_type": "code",
   "execution_count": null,
   "metadata": {},
   "outputs": [],
   "source": [
    "rule_section = 0\n",
    "no_rule_section = 0\n",
    "\n",
    "no_rule_sections = []\n",
    "\n",
    "print(reg_headings)\n",
    "\n",
    "for text_key, sectioned_text in sectioned_texts.items():\n",
    "\n",
    "    has_rule_section = False\n",
    "    \n",
    "    for heading in sectioned_text:\n",
    "\n",
    "        if SECComplaintParser.regex_fullmatch_any(heading, reg_headings):\n",
    "\n",
    "            has_rule_section = True\n",
    "\n",
    "    if has_rule_section:\n",
    "\n",
    "        rule_section += 1\n",
    "\n",
    "    else:\n",
    "\n",
    "        no_rule_section += 1\n",
    "        no_rule_sections.append(text_key)\n",
    "\n",
    "print(rule_section)\n",
    "print(no_rule_section)\n",
    "print(no_rule_sections)"
   ]
  }
 ],
 "metadata": {
  "kernelspec": {
   "display_name": "regrecall",
   "language": "python",
   "name": "python3"
  },
  "language_info": {
   "codemirror_mode": {
    "name": "ipython",
    "version": 3
   },
   "file_extension": ".py",
   "mimetype": "text/x-python",
   "name": "python",
   "nbconvert_exporter": "python",
   "pygments_lexer": "ipython3",
   "version": "3.12.2"
  }
 },
 "nbformat": 4,
 "nbformat_minor": 2
}
