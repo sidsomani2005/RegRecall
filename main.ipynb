{
 "cells": [
  {
   "cell_type": "markdown",
   "metadata": {},
   "source": [
    "# RegRecall Dataset Construction\n",
    "\n",
    "This notebook contains code to construct the RegRecall dataset."
   ]
  },
  {
   "cell_type": "markdown",
   "metadata": {},
   "source": [
    "## Part 0: Imports"
   ]
  },
  {
   "cell_type": "code",
   "execution_count": 3,
   "metadata": {},
   "outputs": [
    {
     "name": "stdout",
     "output_type": "stream",
     "text": [
      "The autoreload extension is already loaded. To reload it, use:\n",
      "  %reload_ext autoreload\n"
     ]
    }
   ],
   "source": [
    "%load_ext autoreload\n",
    "%autoreload 2\n",
    "from pypdf import PdfReader\n",
    "from lit_scraper import scrape_sec_complaints\n",
    "from sec_complaint_parser import SECComplaintParser\n",
    "from parser_config import reg_headings\n",
    "import random\n",
    "import os\n",
    "from tqdm import tqdm\n",
    "import json"
   ]
  },
  {
   "cell_type": "markdown",
   "metadata": {},
   "source": [
    "## Part 1: Litigation Web Scraping\n",
    "\n",
    "First, we scrape all litigation proceedings opened by the SEC from [here](https://www.sec.gov/litigation/litreleases). After the scraping is completed, note that the documents must be moved from your default \"Downloads\" folder to a more permanent location."
   ]
  },
  {
   "cell_type": "code",
   "execution_count": 5,
   "metadata": {},
   "outputs": [
    {
     "name": "stdout",
     "output_type": "stream",
     "text": [
      "Skipped non-PDF link: https://www.sec.gov/files/litigation/complaints/2025/comp26352.pdf\n",
      "Skipped non-PDF link: https://www.sec.gov/files/litigation/complaints/2025/comp26349.pdf\n",
      "Skipped non-PDF link: https://www.sec.gov/files/litigation/complaints/2025/comp26348.pdf\n",
      "Skipped non-PDF link: https://www.sec.gov/files/litigation/complaints/2025/comp26345.pdf\n",
      "Skipped non-PDF link: https://www.sec.gov/files/litigation/complaints/2025/comp26343.pdf\n",
      "Skipped non-PDF link: https://www.sec.gov/files/litigation/complaints/2025/comp26341.pdf\n",
      "Skipped non-PDF link: https://www.sec.gov/files/litigation/complaints/2025/comp26339.pdf\n",
      "Skipped non-PDF link: https://www.sec.gov/files/litigation/complaints/2025/comp26336.pdf\n",
      "Skipped non-PDF link: https://www.sec.gov/files/litigation/complaints/2025/comp26333.pdf\n",
      "Stopped\n",
      "Total size of downloaded PDFs: 0 bytes\n",
      "Total number of downloaded files: 10\n"
     ]
    }
   ],
   "source": [
    "scrape_sec_complaints()"
   ]
  },
  {
   "cell_type": "markdown",
   "metadata": {},
   "source": [
    "## Part 2: Initial Parsing\n",
    "\n",
    "Next, the documents must be parsed to identify and extract information relating to actions taken, and violations broken.\n",
    "\n",
    "First, parse the pdfs to extract text."
   ]
  },
  {
   "cell_type": "code",
   "execution_count": 6,
   "metadata": {},
   "outputs": [
    {
     "name": "stderr",
     "output_type": "stream",
     "text": [
      "100%|██████████| 10/10 [00:01<00:00,  8.10it/s]\n"
     ]
    }
   ],
   "source": [
    "all_texts = SECComplaintParser.get_all_pdf_texts(\"data/sec_complaints\", save_text=True, save_directory=\"data/sec_complaints_text\")"
   ]
  },
  {
   "cell_type": "markdown",
   "metadata": {},
   "source": [
    "Alternatively, if the text has already been extracted, load the text in."
   ]
  },
  {
   "cell_type": "code",
   "execution_count": 23,
   "metadata": {},
   "outputs": [
    {
     "name": "stderr",
     "output_type": "stream",
     "text": [
      "100%|██████████| 10/10 [00:00<00:00, 7777.31it/s]"
     ]
    },
    {
     "name": "stdout",
     "output_type": "stream",
     "text": [
      "10 texts loaded in!\n"
     ]
    },
    {
     "name": "stderr",
     "output_type": "stream",
     "text": [
      "\n"
     ]
    }
   ],
   "source": [
    "all_texts = SECComplaintParser.load_pdf_texts(\"data/sec_complaints_text\")\n",
    "\n",
    "print(\"{num_texts} texts loaded in!\".format(num_texts=len(all_texts)))"
   ]
  },
  {
   "cell_type": "code",
   "execution_count": 7,
   "metadata": {},
   "outputs": [
    {
     "name": "stdout",
     "output_type": "stream",
     "text": [
      "Saved JSON to data/sec_complaints_json/complaints.json\n"
     ]
    }
   ],
   "source": [
    "output_dir = \"data/sec_complaints_json\"\n",
    "os.makedirs(output_dir, exist_ok=True)\n",
    "output_path = os.path.join(output_dir, \"complaints.json\")\n",
    "\n",
    "with open(output_path, \"w\", encoding=\"utf-8\") as json_file:\n",
    "    json.dump(all_texts, json_file, indent=2, ensure_ascii=False)\n",
    "\n",
    "print(f\"Saved JSON to {output_path}\")"
   ]
  },
  {
   "cell_type": "markdown",
   "metadata": {},
   "source": [
    "Now let us split the text up by sections."
   ]
  },
  {
   "cell_type": "code",
   "execution_count": 18,
   "metadata": {},
   "outputs": [],
   "source": [
    "sectioned_texts = SECComplaintParser.section_all_texts(all_texts)"
   ]
  },
  {
   "cell_type": "code",
   "execution_count": 10,
   "metadata": {},
   "outputs": [
    {
     "name": "stdout",
     "output_type": "stream",
     "text": [
      "['.*claimforrelief', 'prayerforrelief', 'claimsforrelief', 'claimsforaction', 'claimforrelief', '.*claimforaction', '.*causeofaction', 'count.*']\n",
      "9\n",
      "1\n",
      "['comp26345']\n"
     ]
    }
   ],
   "source": [
    "rule_section = 0\n",
    "no_rule_section = 0\n",
    "no_rule_sections = []\n",
    "\n",
    "print(reg_headings)\n",
    "\n",
    "for text_key, sectioned_text in sectioned_texts.items():\n",
    "    has_rule_section = False\n",
    "    \n",
    "    for heading in sectioned_text:\n",
    "        if SECComplaintParser.regex_fullmatch_any(heading, reg_headings):\n",
    "            has_rule_section = True\n",
    "\n",
    "    if has_rule_section:\n",
    "        rule_section += 1\n",
    "    else:\n",
    "        no_rule_section += 1\n",
    "        no_rule_sections.append(text_key)\n",
    "\n",
    "print(rule_section)\n",
    "print(no_rule_section)\n",
    "print(no_rule_sections)"
   ]
  },
  {
   "cell_type": "markdown",
   "metadata": {},
   "source": [
    "## Part 3: Section Parsing\n",
    " \n",
    "Extracting each section from each txt filing using sec_complaint_parser.py functions"
   ]
  },
  {
   "cell_type": "code",
   "execution_count": 22,
   "metadata": {},
   "outputs": [
    {
     "name": "stdout",
     "output_type": "stream",
     "text": [
      "DOC_START\n",
      "defendants\n",
      "complaint\n",
      "jurisdictionandvenue\n",
      "counti\n",
      "countii\n",
      "DOC_START\n",
      "defendants\n",
      "jurisdictionandvenue\n",
      "firstclaimforrelief\n",
      "secondclaimforrelief\n",
      "thirdclaimforrelief\n",
      "fourthclaimforrelief\n",
      "prayerforrelief\n",
      "DOC_START\n",
      "defendants\n",
      "complaint\n",
      "summary\n",
      "jurisdictionandvenue\n",
      "defendant\n",
      "firstclaimforrelief\n",
      "prayerforrelief\n",
      "DOC_START\n",
      "defendants\n",
      "complaintforinjunctiveandotherrelief\n",
      "counti\n",
      "complaint\n",
      "countii\n",
      "countiii\n",
      "countiv\n",
      "countv\n",
      "countvi\n",
      "countvii\n",
      "DOC_START\n",
      "summary\n",
      "complaint\n",
      "defendants\n",
      "claimsforrelief\n",
      "firstclaimforrelief\n",
      "10111213141516171819202122232425262728secondclaimforrelief\n",
      "thirdclaimforrelief\n",
      "prayerforrelief\n",
      "DOC_START\n",
      "defendant\n",
      "complaint\n",
      "summary\n",
      "jurisdictionandvenue\n",
      "firstclaimforrelief\n",
      "secondclaimforrelief\n",
      "prayerforrelief\n",
      "DOC_START\n",
      "DOC_START\n",
      "defendant\n",
      "complaint\n",
      "preliminarystatement\n",
      "jurisdictionandvenue\n",
      "firstclaimforrelief\n",
      "secondclaimforrelief\n",
      "prayerforrelief\n",
      "DOC_START\n",
      "defendants\n",
      "complaint\n",
      "firstclaimforrelief\n",
      "secondclaimforrelief\n",
      "thirdclaimforrelief\n",
      "fourthclaimforrelief\n",
      "DOC_START\n",
      "defendants\n",
      "complaint\n",
      "jurisdictionandvenue\n",
      "summary\n",
      "firstclaimforrelief\n",
      "secondclaimforrelief\n",
      "thirdclaimforrelief\n",
      "fourthclaimforrelief\n",
      "10111213141516171819202122232425262728fifthclaimforrelief\n",
      "10111213141516171819202122232425262728sixthclaimforrelief\n",
      "seventhclaimforrelief\n",
      "eighthclaimforrelief\n",
      "ninthclaimforrelief\n",
      "tenthclaimforrelief\n"
     ]
    }
   ],
   "source": [
    "# i want to clean the text using SECComplaintParser.clean_string\n",
    "for text_key, sectioned_text in sectioned_texts.items():\n",
    "    for heading in sectioned_text:\n",
    "        print(heading)\n",
    "        # print(SECComplaintParser.clean_string(heading))"
   ]
  },
  {
   "cell_type": "code",
   "execution_count": null,
   "metadata": {},
   "outputs": [],
   "source": []
  }
 ],
 "metadata": {
  "kernelspec": {
   "display_name": "base",
   "language": "python",
   "name": "python3"
  },
  "language_info": {
   "codemirror_mode": {
    "name": "ipython",
    "version": 3
   },
   "file_extension": ".py",
   "mimetype": "text/x-python",
   "name": "python",
   "nbconvert_exporter": "python",
   "pygments_lexer": "ipython3",
   "version": "3.11.5"
  }
 },
 "nbformat": 4,
 "nbformat_minor": 2
}
